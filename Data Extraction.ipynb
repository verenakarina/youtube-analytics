{
 "cells": [
  {
   "cell_type": "code",
   "execution_count": 1,
   "id": "dd815f87",
   "metadata": {},
   "outputs": [],
   "source": [
    "import googleapiclient.discovery\n",
    "import googleapiclient.errors\n",
    "\n",
    "import pandas as pd\n",
    "import os\n",
    "import re\n",
    "import csv\n",
    "\n",
    "from tqdm import tqdm"
   ]
  },
  {
   "cell_type": "code",
   "execution_count": 2,
   "id": "32c72526",
   "metadata": {},
   "outputs": [],
   "source": [
    "#retrieve API key\n",
    "api_path = \"api_key.txt\"\n",
    "with open(api_path, 'r') as file:\n",
    "    api_key = file.readline()"
   ]
  },
  {
   "cell_type": "code",
   "execution_count": 3,
   "id": "d1192a8d",
   "metadata": {},
   "outputs": [],
   "source": [
    "#extract only 'id' and 'title'\n",
    "def vid_category(response):\n",
    "    items_dict = response[\"items\"]\n",
    "    video_category = {}\n",
    "\n",
    "    for i in range(len(items_dict)):\n",
    "        category_id = items_dict[i]['id']\n",
    "        category_title = items_dict[i]['snippet']['title']\n",
    "\n",
    "        video_category[category_id] = category_title\n",
    "    \n",
    "    return video_category"
   ]
  },
  {
   "cell_type": "code",
   "execution_count": 4,
   "id": "43255ea0",
   "metadata": {},
   "outputs": [
    {
     "data": {
      "text/plain": [
       "{'1': 'Film & Animation',\n",
       " '2': 'Autos & Vehicles',\n",
       " '10': 'Music',\n",
       " '15': 'Pets & Animals',\n",
       " '17': 'Sports',\n",
       " '18': 'Short Movies',\n",
       " '19': 'Travel & Events',\n",
       " '20': 'Gaming',\n",
       " '21': 'Videoblogging',\n",
       " '22': 'People & Blogs',\n",
       " '23': 'Comedy',\n",
       " '24': 'Entertainment',\n",
       " '25': 'News & Politics',\n",
       " '26': 'Howto & Style',\n",
       " '27': 'Education',\n",
       " '28': 'Science & Technology',\n",
       " '30': 'Movies',\n",
       " '31': 'Anime/Animation',\n",
       " '32': 'Action/Adventure',\n",
       " '33': 'Classics',\n",
       " '34': 'Comedy',\n",
       " '35': 'Documentary',\n",
       " '36': 'Drama',\n",
       " '37': 'Family',\n",
       " '38': 'Foreign',\n",
       " '39': 'Horror',\n",
       " '40': 'Sci-Fi/Fantasy',\n",
       " '41': 'Thriller',\n",
       " '42': 'Shorts',\n",
       " '43': 'Shows',\n",
       " '44': 'Trailers'}"
      ]
     },
     "execution_count": 4,
     "metadata": {},
     "output_type": "execute_result"
    }
   ],
   "source": [
    "vid_category_dict = {}\n",
    "\n",
    "api_service_name = \"youtube\"\n",
    "api_version = \"v3\"\n",
    "\n",
    "# Get credentials and create an API client\n",
    "youtube = googleapiclient.discovery.build(\n",
    "    api_service_name, api_version, developerKey=api_key)\n",
    "\n",
    "request = youtube.videoCategories().list(\n",
    "    part=\"snippet\",\n",
    "    regionCode='ID' #randomly stipulated since all ASEAN country have same video category id configuration\n",
    ")\n",
    "response = request.execute()\n",
    "\n",
    "vid_category_dict = vid_category(response)\n",
    "    \n",
    "vid_category_dict    "
   ]
  },
  {
   "cell_type": "markdown",
   "id": "0636397d",
   "metadata": {},
   "source": [
    "# Extract Most Popular Videos Based on Video Category in Each Country"
   ]
  },
  {
   "cell_type": "markdown",
   "id": "847afab6",
   "metadata": {},
   "source": [
    "### Function to Extract Attributes Needed"
   ]
  },
  {
   "cell_type": "code",
   "execution_count": 5,
   "id": "0c1f8c23",
   "metadata": {},
   "outputs": [],
   "source": [
    "#define country codes (ASEAN countries)\n",
    "country_code = [\"BN\", \"MM\", \"KH\", \"ID\", \"MY\", \"PH\", \"SG\", \"TH\", \"VN\", \"LA\", \"TL\"]"
   ]
  },
  {
   "cell_type": "code",
   "execution_count": 6,
   "id": "1e1861ec",
   "metadata": {},
   "outputs": [],
   "source": [
    "#function to create csv out of json most popular videos stats\n",
    "\n",
    "def VideoStatCSV(input_dict, cat_id):\n",
    "    video_id = []\n",
    "    channel_id = []\n",
    "    channel_name = []\n",
    "    video_title = []\n",
    "    category_id = []\n",
    "    publish_time = []\n",
    "    view_count = []\n",
    "    like_count = []\n",
    "    comment_count = []\n",
    "    comments_disabled = []\n",
    "    likes_disabled = []\n",
    "    video_category = []\n",
    "    description = []\n",
    "\n",
    "    total_item = len(input_dict[\"items\"])\n",
    "    \n",
    "    for item in range(total_item):\n",
    "        # only extract data that match with the category id\n",
    "        if input_dict[\"items\"][item][\"snippet\"][\"categoryId\"] == cat_id:\n",
    "            dictionary = input_dict[\"items\"][item]\n",
    "            snippet = dictionary[\"snippet\"]\n",
    "            stats = dictionary[\"statistics\"]\n",
    "\n",
    "            video_id.append(dictionary[\"id\"])\n",
    "\n",
    "            channel_id.append(snippet[\"channelId\"])\n",
    "            channel_name.append(clean_emoji(snippet[\"channelTitle\"]))\n",
    "            video_title.append(clean_emoji(snippet[\"title\"]))\n",
    "#             description.append(clean_emoji(prepare_feature(snippet[\"localized\"][\"description\"])))\n",
    "            category_id.append(snippet[\"categoryId\"])\n",
    "            video_category.append(vid_category_dict[snippet[\"categoryId\"]])\n",
    "            publish_time.append(snippet[\"publishedAt\"])\n",
    "\n",
    "            view_count.append(stats[\"viewCount\"])\n",
    "\n",
    "            if 'likeCount' in stats:\n",
    "                like_count.append(stats[\"likeCount\"])\n",
    "                likes_disabled.append(False)\n",
    "            else:\n",
    "                likes_disabled.append(True)\n",
    "                like_count.append(0)\n",
    "\n",
    "\n",
    "            if 'commentCount' in stats:\n",
    "                comment_count.append(stats[\"commentCount\"])\n",
    "                comments_disabled.append(False)\n",
    "            else:\n",
    "                comments_disabled.append(True)\n",
    "                comment_count.append(0)\n",
    "\n",
    "\n",
    "\n",
    "    df = pd.DataFrame(\n",
    "    {'video_id': video_id,\n",
    "     'channel_id': channel_id,\n",
    "     'channel_name': channel_name,\n",
    "     'video_title': video_title,\n",
    "#      'description':description,\n",
    "     'category_id': category_id,\n",
    "     'video_category': video_category,\n",
    "     'publish_time': publish_time,\n",
    "     'view_count': view_count,\n",
    "     'like_count': like_count,\n",
    "     'like_count': like_count,\n",
    "     'comment_count': comment_count,\n",
    "     'comments_disabled':comments_disabled\n",
    "    })\n",
    "\n",
    "    return df\n"
   ]
  },
  {
   "cell_type": "markdown",
   "id": "5c10242e",
   "metadata": {},
   "source": [
    "### Extract Comments Function"
   ]
  },
  {
   "cell_type": "code",
   "execution_count": 7,
   "id": "67f3c324",
   "metadata": {},
   "outputs": [],
   "source": [
    "def get_comment(country,dataset):\n",
    "    #generate dataframe of relevant comments from each video and store in dataframe\n",
    "    column_videoid = dataset['video_id']\n",
    "    \n",
    "    api_service_name = \"youtube\"\n",
    "    api_version = \"v3\"\n",
    "\n",
    "    #get comments\n",
    "    youtube = googleapiclient.discovery.build(\n",
    "                api_service_name, api_version, developerKey=api_key)\n",
    "    \n",
    "    df = pd.DataFrame({'A' : []})\n",
    "    print(f\"Writing {country} comments in progress...\")\n",
    "    \n",
    "    for videoid in tqdm(column_videoid):\n",
    "        try:\n",
    "            #request data\n",
    "            request = youtube.commentThreads().list(\n",
    "                part=\"snippet\",\n",
    "                videoId=videoid,\n",
    "                maxResults = 50,\n",
    "                order = 'relevance'\n",
    "            )\n",
    "            response = request.execute()\n",
    "            response\n",
    "            \n",
    "            #store data in list\n",
    "            country_id = []\n",
    "            video_id = []\n",
    "            comment = []\n",
    "            author_display_name = []\n",
    "            comment_like_count = []\n",
    "            comments_disabled_check = []\n",
    "            \n",
    "            for key in response.keys():\n",
    "                ncoms =(response['pageInfo']['totalResults'])\n",
    "\n",
    "\n",
    "            for i in range(0,ncoms):\n",
    "                country_id.append(country)\n",
    "                video_id.append(videoid)\n",
    "                comment.append(clean_emoji(prepare_feature(response['items'][i]['snippet']['topLevelComment']\n",
    "                    ['snippet']['textOriginal'])))\n",
    "                author_display_name.append(response['items'][i]['snippet']['topLevelComment']\n",
    "                    ['snippet']['authorDisplayName'])\n",
    "                comment_like_count.append(response['items'][i]['snippet']['topLevelComment']\n",
    "                    ['snippet']['likeCount'])\n",
    "                comments_disabled_check.append(False)\n",
    "            \n",
    "            #create dataframe out of the list for each video_id\n",
    "            if df.empty:\n",
    "                df = pd.DataFrame(\n",
    "            {'country':country,\n",
    "             'video_id': video_id,\n",
    "             'comment': comment,\n",
    "             'comment_like_count': comment_like_count\n",
    "            })\n",
    "            else:\n",
    "                temp = pd.DataFrame(\n",
    "                {'country':country,\n",
    "                 'video_id': video_id,\n",
    "                 'comment': comment,\n",
    "                 'comment_like_count': comment_like_count\n",
    "                })\n",
    "                df = pd.concat([df,temp], ignore_index=True)\n",
    "\n",
    "        except:\n",
    "            None\n",
    "        \n",
    "    path = '/Users/verenakarina/Desktop/Project/youtube/comment_data'\n",
    "            \n",
    "    df.to_csv(os.path.join(path,f'{country}_comments_dataset.csv'),index=False)\n",
    "    \n",
    "    return df"
   ]
  },
  {
   "cell_type": "markdown",
   "id": "ea9efbbb",
   "metadata": {},
   "source": [
    "### Data Cleaning Function"
   ]
  },
  {
   "cell_type": "code",
   "execution_count": 8,
   "id": "0ed8966c",
   "metadata": {},
   "outputs": [],
   "source": [
    "def clean_emoji(text):\n",
    "    emoji_pattern = re.compile(\"[\"\n",
    "        u\"\\U0001F600-\\U0001F64F\"  # emoticons\n",
    "        u\"\\U0001F300-\\U0001F5FF\"  # symbols & pictographs\n",
    "        u\"\\U0001F680-\\U0001F6FF\"  # transport & map symbols\n",
    "        u\"\\U0001F1E0-\\U0001F1FF\"  # flags (iOS)\n",
    "        u\"\\U00002500-\\U00002BEF\" \n",
    "        u\"\\U00002702-\\U000027B0\"\n",
    "        u\"\\U00002702-\\U000027B0\"\n",
    "        u\"\\U00010000-\\U0010ffff\"\n",
    "                      \"]+\", re.UNICODE)\n",
    "    return emoji_pattern.sub(r'', text) # no emoji"
   ]
  },
  {
   "cell_type": "code",
   "execution_count": 9,
   "id": "30fb0130",
   "metadata": {},
   "outputs": [],
   "source": [
    "unsafe_characters = ['\\n', '\"']\n",
    "\n",
    "def prepare_feature(feature):\n",
    "    # Removes any character from the unsafe characters list and surrounds the whole item in quotes\n",
    "    for ch in unsafe_characters:\n",
    "        feature = str(feature).replace(ch, \"\")\n",
    "    return f'{feature}'"
   ]
  },
  {
   "cell_type": "markdown",
   "id": "6f79b525",
   "metadata": {},
   "source": [
    "### Code Starts Here:"
   ]
  },
  {
   "cell_type": "code",
   "execution_count": 10,
   "id": "edd7b0c6",
   "metadata": {},
   "outputs": [
    {
     "name": "stdout",
     "output_type": "stream",
     "text": [
      "BN video category in progress...\n"
     ]
    },
    {
     "name": "stderr",
     "output_type": "stream",
     "text": [
      "100%|███████████████████████████████████████████| 31/31 [00:02<00:00, 14.23it/s]\n"
     ]
    },
    {
     "name": "stdout",
     "output_type": "stream",
     "text": [
      "MM video category in progress...\n"
     ]
    },
    {
     "name": "stderr",
     "output_type": "stream",
     "text": [
      "100%|███████████████████████████████████████████| 31/31 [00:01<00:00, 16.79it/s]\n"
     ]
    },
    {
     "name": "stdout",
     "output_type": "stream",
     "text": [
      "KH video category in progress...\n"
     ]
    },
    {
     "name": "stderr",
     "output_type": "stream",
     "text": [
      "100%|███████████████████████████████████████████| 31/31 [00:05<00:00,  5.38it/s]\n"
     ]
    },
    {
     "name": "stdout",
     "output_type": "stream",
     "text": [
      "ID video category in progress...\n"
     ]
    },
    {
     "name": "stderr",
     "output_type": "stream",
     "text": [
      "100%|███████████████████████████████████████████| 31/31 [00:04<00:00,  6.21it/s]\n"
     ]
    },
    {
     "name": "stdout",
     "output_type": "stream",
     "text": [
      "MY video category in progress...\n"
     ]
    },
    {
     "name": "stderr",
     "output_type": "stream",
     "text": [
      "100%|███████████████████████████████████████████| 31/31 [00:05<00:00,  5.40it/s]\n"
     ]
    },
    {
     "name": "stdout",
     "output_type": "stream",
     "text": [
      "PH video category in progress...\n"
     ]
    },
    {
     "name": "stderr",
     "output_type": "stream",
     "text": [
      "100%|███████████████████████████████████████████| 31/31 [00:07<00:00,  4.13it/s]\n"
     ]
    },
    {
     "name": "stdout",
     "output_type": "stream",
     "text": [
      "SG video category in progress...\n"
     ]
    },
    {
     "name": "stderr",
     "output_type": "stream",
     "text": [
      "100%|███████████████████████████████████████████| 31/31 [00:08<00:00,  3.70it/s]\n"
     ]
    },
    {
     "name": "stdout",
     "output_type": "stream",
     "text": [
      "TH video category in progress...\n"
     ]
    },
    {
     "name": "stderr",
     "output_type": "stream",
     "text": [
      "100%|███████████████████████████████████████████| 31/31 [00:08<00:00,  3.73it/s]\n"
     ]
    },
    {
     "name": "stdout",
     "output_type": "stream",
     "text": [
      "VN video category in progress...\n"
     ]
    },
    {
     "name": "stderr",
     "output_type": "stream",
     "text": [
      "100%|███████████████████████████████████████████| 31/31 [00:08<00:00,  3.70it/s]\n"
     ]
    },
    {
     "name": "stdout",
     "output_type": "stream",
     "text": [
      "LA video category in progress...\n"
     ]
    },
    {
     "name": "stderr",
     "output_type": "stream",
     "text": [
      "100%|███████████████████████████████████████████| 31/31 [00:07<00:00,  4.04it/s]\n"
     ]
    },
    {
     "name": "stdout",
     "output_type": "stream",
     "text": [
      "TL video category in progress...\n"
     ]
    },
    {
     "name": "stderr",
     "output_type": "stream",
     "text": [
      "100%|███████████████████████████████████████████| 31/31 [00:05<00:00,  6.09it/s]\n"
     ]
    }
   ],
   "source": [
    "api_service_name = \"youtube\"\n",
    "api_version = \"v3\"\n",
    "\n",
    "category_based_vids = {}\n",
    "\n",
    "for country in country_code:\n",
    "    \n",
    "    print(f\"{country} video category in progress...\")\n",
    "    for categoryid in tqdm(vid_category_dict):\n",
    "        youtube = googleapiclient.discovery.build(\n",
    "            api_service_name, api_version, developerKey=api_key)\n",
    "        \n",
    "        try:\n",
    "            request = youtube.videos().list(\n",
    "                part=\"snippet,contentDetails,statistics\",\n",
    "                chart=\"mostPopular\",\n",
    "                regionCode=country,\n",
    "                videoCategoryId=categoryid,\n",
    "                maxResults=50\n",
    "            )\n",
    "            response = request.execute()\n",
    "            if country in category_based_vids:\n",
    "                category_based_vids[country][categoryid] = response\n",
    "            else:\n",
    "                category_based_vids[country] = {categoryid: response}\n",
    "            \n",
    "        except:\n",
    "            None\n"
   ]
  },
  {
   "cell_type": "code",
   "execution_count": 11,
   "id": "625c5d2c",
   "metadata": {},
   "outputs": [
    {
     "data": {
      "text/plain": [
       "['KH', 'ID', 'MY', 'PH', 'SG', 'TH', 'VN', 'LA']"
      ]
     },
     "execution_count": 11,
     "metadata": {},
     "output_type": "execute_result"
    }
   ],
   "source": [
    "updated_country = []\n",
    "for i in category_based_vids:\n",
    "    updated_country.append(i)\n",
    "updated_country"
   ]
  },
  {
   "cell_type": "code",
   "execution_count": 12,
   "id": "a2d77caa",
   "metadata": {},
   "outputs": [
    {
     "name": "stdout",
     "output_type": "stream",
     "text": [
      "Writing KH comments in progress...\n"
     ]
    },
    {
     "name": "stderr",
     "output_type": "stream",
     "text": [
      "100%|█████████████████████████████████████████| 179/179 [00:33<00:00,  5.41it/s]\n"
     ]
    },
    {
     "name": "stdout",
     "output_type": "stream",
     "text": [
      "Writing ID comments in progress...\n"
     ]
    },
    {
     "name": "stderr",
     "output_type": "stream",
     "text": [
      "100%|█████████████████████████████████████████| 242/242 [00:45<00:00,  5.30it/s]\n"
     ]
    },
    {
     "name": "stdout",
     "output_type": "stream",
     "text": [
      "Writing MY comments in progress...\n"
     ]
    },
    {
     "name": "stderr",
     "output_type": "stream",
     "text": [
      "100%|█████████████████████████████████████████| 229/229 [00:57<00:00,  3.95it/s]\n"
     ]
    },
    {
     "name": "stdout",
     "output_type": "stream",
     "text": [
      "Writing PH comments in progress...\n"
     ]
    },
    {
     "name": "stderr",
     "output_type": "stream",
     "text": [
      "100%|█████████████████████████████████████████| 225/225 [00:59<00:00,  3.81it/s]\n"
     ]
    },
    {
     "name": "stdout",
     "output_type": "stream",
     "text": [
      "Writing SG comments in progress...\n"
     ]
    },
    {
     "name": "stderr",
     "output_type": "stream",
     "text": [
      "100%|█████████████████████████████████████████| 238/238 [01:22<00:00,  2.88it/s]\n"
     ]
    },
    {
     "name": "stdout",
     "output_type": "stream",
     "text": [
      "Writing TH comments in progress...\n"
     ]
    },
    {
     "name": "stderr",
     "output_type": "stream",
     "text": [
      "100%|█████████████████████████████████████████| 187/187 [00:43<00:00,  4.28it/s]\n"
     ]
    },
    {
     "name": "stdout",
     "output_type": "stream",
     "text": [
      "Writing VN comments in progress...\n"
     ]
    },
    {
     "name": "stderr",
     "output_type": "stream",
     "text": [
      "100%|█████████████████████████████████████████| 190/190 [00:38<00:00,  4.95it/s]\n"
     ]
    },
    {
     "name": "stdout",
     "output_type": "stream",
     "text": [
      "Writing LA comments in progress...\n"
     ]
    },
    {
     "name": "stderr",
     "output_type": "stream",
     "text": [
      "100%|█████████████████████████████████████████| 152/152 [00:27<00:00,  5.49it/s]\n"
     ]
    }
   ],
   "source": [
    "path = '/Users/verenakarina/Desktop/Project/youtube/raw_data2'\n",
    "\n",
    "for country in updated_country:\n",
    "    df = pd.DataFrame({'A' : []})\n",
    "    for cat_id in vid_category_dict:\n",
    "        if df.empty:\n",
    "            try:\n",
    "                df = VideoStatCSV(category_based_vids[country][cat_id], cat_id)\n",
    "            except:\n",
    "                None\n",
    "        else:\n",
    "            try:\n",
    "                temp = VideoStatCSV(category_based_vids[country][cat_id], cat_id)\n",
    "                df = pd.concat([df,temp], ignore_index=True)\n",
    "            except:\n",
    "                None\n",
    "    \n",
    "    get_comment(country,df)\n",
    "    \n",
    "    df.to_csv(os.path.join(path,f'{country}_dataset.csv'),index=False)\n"
   ]
  },
  {
   "cell_type": "code",
   "execution_count": null,
   "id": "d5d9b0c0",
   "metadata": {},
   "outputs": [],
   "source": []
  }
 ],
 "metadata": {
  "kernelspec": {
   "display_name": "Python 3 (ipykernel)",
   "language": "python",
   "name": "python3"
  },
  "language_info": {
   "codemirror_mode": {
    "name": "ipython",
    "version": 3
   },
   "file_extension": ".py",
   "mimetype": "text/x-python",
   "name": "python",
   "nbconvert_exporter": "python",
   "pygments_lexer": "ipython3",
   "version": "3.9.12"
  }
 },
 "nbformat": 4,
 "nbformat_minor": 5
}
